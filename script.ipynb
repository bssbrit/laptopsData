{
 "cells": [
  {
   "cell_type": "code",
   "execution_count": 33,
   "id": "851610e7",
   "metadata": {},
   "outputs": [],
   "source": [
    "import pandas as pd"
   ]
  },
  {
   "cell_type": "code",
   "execution_count": 34,
   "id": "cc78bb8d",
   "metadata": {},
   "outputs": [],
   "source": [
    "noteData = pd.read_csv('EbayPcLaptopsAndNetbooksUnclean.csv')\n",
    "cleanNoteData = pd.read_csv('EbayPcLaptopsAndNetbooksClean.csv')"
   ]
  },
  {
   "cell_type": "code",
   "execution_count": 35,
   "id": "82488635",
   "metadata": {},
   "outputs": [],
   "source": [
    "\n",
    "noteData.drop_duplicates(inplace = True)"
   ]
  },
  {
   "cell_type": "code",
   "execution_count": 36,
   "id": "fdedad35-6551-4959-81a0-7f5fc20f2e99",
   "metadata": {},
   "outputs": [],
   "source": [
    "noteData.drop(columns = ['Rating', 'Ratings Count'], inplace = True)"
   ]
  },
  {
   "cell_type": "code",
   "execution_count": 37,
   "id": "642e3e76-3e3b-4f63-aa92-4e2a4c4906ae",
   "metadata": {},
   "outputs": [],
   "source": [
    "noteData['Brand'] = noteData['Brand'].str.lower()"
   ]
  },
  {
   "cell_type": "code",
   "execution_count": 38,
   "id": "a88df3b6-b162-4b05-b066-9052edcd17ad",
   "metadata": {},
   "outputs": [],
   "source": [
    "noteData['Price'] = noteData['Price'].str.split(' to ').str[0].str.strip().str.strip('$')"
   ]
  },
  {
   "cell_type": "code",
   "execution_count": 39,
   "id": "64ba9784-85c9-4107-b1da-ba9573f51713",
   "metadata": {},
   "outputs": [
    {
     "data": {
      "text/plain": [
       "0       303.68\n",
       "1       399.99\n",
       "2       175.00\n",
       "3        84.99\n",
       "4       101.22\n",
       "         ...  \n",
       "6600     93.26\n",
       "6601    424.83\n",
       "6611    385.23\n",
       "6612     90.92\n",
       "6618    567.74\n",
       "Name: Price, Length: 4475, dtype: object"
      ]
     },
     "execution_count": 39,
     "metadata": {},
     "output_type": "execute_result"
    }
   ],
   "source": [
    "noteData['Price']\n"
   ]
  },
  {
   "cell_type": "code",
   "execution_count": 40,
   "id": "c7c8c183-ba19-43a8-9f16-c263bb5bdaf3",
   "metadata": {},
   "outputs": [
    {
     "data": {
      "text/plain": [
       "0       303.68\n",
       "1       399.99\n",
       "2       175.00\n",
       "3        84.99\n",
       "4       101.22\n",
       "         ...  \n",
       "6600     93.26\n",
       "6601    424.83\n",
       "6611    385.23\n",
       "6612     90.92\n",
       "6618    567.74\n",
       "Name: Price, Length: 4475, dtype: object"
      ]
     },
     "execution_count": 40,
     "metadata": {},
     "output_type": "execute_result"
    }
   ],
   "source": [
    "noteData['Price'].str.split(' to ').str[0].str.strip().str.strip('$')"
   ]
  },
  {
   "cell_type": "code",
   "execution_count": 41,
   "id": "56f5798b-c83c-4312-a905-6709e631c782",
   "metadata": {},
   "outputs": [
    {
     "data": {
      "text/plain": [
       "0        A brand-new, unused, unopened, undamaged item...\n",
       "1                                                     NaN\n",
       "2                                                     NaN\n",
       "3                                                     NaN\n",
       "4                                                     NaN\n",
       "                              ...                        \n",
       "6600     A brand-new, unused, unopened, undamaged item...\n",
       "6601     An item that has been used previously. The it...\n",
       "6611     A brand-new, unused, unopened, undamaged item...\n",
       "6612     A brand-new, unused, unopened, undamaged item...\n",
       "6618                                                  NaN\n",
       "Name: Condition, Length: 4475, dtype: object"
      ]
     },
     "execution_count": 41,
     "metadata": {},
     "output_type": "execute_result"
    }
   ],
   "source": [
    "noteData['Condition'].str.split(':').str[1]"
   ]
  },
  {
   "cell_type": "code",
   "execution_count": 42,
   "id": "ea7cf7f3-aebb-4b3c-a104-6a6fb6f24968",
   "metadata": {},
   "outputs": [],
   "source": [
    "noteData['Condition Description'] = noteData['Condition'].str.split(':').str[1]\n",
    "noteData['Condition'] = noteData['Condition'].str.split(':').str[0]\n",
    "\n"
   ]
  },
  {
   "cell_type": "code",
   "execution_count": 43,
   "id": "a328b01c-a46c-4841-9214-a5222546d1be",
   "metadata": {},
   "outputs": [
    {
     "data": {
      "text/html": [
       "<div>\n",
       "<style scoped>\n",
       "    .dataframe tbody tr th:only-of-type {\n",
       "        vertical-align: middle;\n",
       "    }\n",
       "\n",
       "    .dataframe tbody tr th {\n",
       "        vertical-align: top;\n",
       "    }\n",
       "\n",
       "    .dataframe thead th {\n",
       "        text-align: right;\n",
       "    }\n",
       "</style>\n",
       "<table border=\"1\" class=\"dataframe\">\n",
       "  <thead>\n",
       "    <tr style=\"text-align: right;\">\n",
       "      <th></th>\n",
       "      <th>Condition</th>\n",
       "      <th>Condition Description</th>\n",
       "    </tr>\n",
       "  </thead>\n",
       "  <tbody>\n",
       "    <tr>\n",
       "      <th>0</th>\n",
       "      <td>New</td>\n",
       "      <td>A brand-new, unused, unopened, undamaged item...</td>\n",
       "    </tr>\n",
       "    <tr>\n",
       "      <th>1</th>\n",
       "      <td>Very Good - RefurbishedThe item shows minimal ...</td>\n",
       "      <td>NaN</td>\n",
       "    </tr>\n",
       "    <tr>\n",
       "      <th>2</th>\n",
       "      <td>UsedAn item that has been used previously. The...</td>\n",
       "      <td>NaN</td>\n",
       "    </tr>\n",
       "    <tr>\n",
       "      <th>3</th>\n",
       "      <td>Good - RefurbishedThe item shows moderate wear...</td>\n",
       "      <td>NaN</td>\n",
       "    </tr>\n",
       "    <tr>\n",
       "      <th>4</th>\n",
       "      <td>Good - RefurbishedThe item shows moderate wear...</td>\n",
       "      <td>NaN</td>\n",
       "    </tr>\n",
       "    <tr>\n",
       "      <th>...</th>\n",
       "      <td>...</td>\n",
       "      <td>...</td>\n",
       "    </tr>\n",
       "    <tr>\n",
       "      <th>6600</th>\n",
       "      <td>New</td>\n",
       "      <td>A brand-new, unused, unopened, undamaged item...</td>\n",
       "    </tr>\n",
       "    <tr>\n",
       "      <th>6601</th>\n",
       "      <td>Used</td>\n",
       "      <td>An item that has been used previously. The it...</td>\n",
       "    </tr>\n",
       "    <tr>\n",
       "      <th>6611</th>\n",
       "      <td>New</td>\n",
       "      <td>A brand-new, unused, unopened, undamaged item...</td>\n",
       "    </tr>\n",
       "    <tr>\n",
       "      <th>6612</th>\n",
       "      <td>New</td>\n",
       "      <td>A brand-new, unused, unopened, undamaged item...</td>\n",
       "    </tr>\n",
       "    <tr>\n",
       "      <th>6618</th>\n",
       "      <td>NaN</td>\n",
       "      <td>NaN</td>\n",
       "    </tr>\n",
       "  </tbody>\n",
       "</table>\n",
       "<p>4475 rows × 2 columns</p>\n",
       "</div>"
      ],
      "text/plain": [
       "                                              Condition  \\\n",
       "0                                                   New   \n",
       "1     Very Good - RefurbishedThe item shows minimal ...   \n",
       "2     UsedAn item that has been used previously. The...   \n",
       "3     Good - RefurbishedThe item shows moderate wear...   \n",
       "4     Good - RefurbishedThe item shows moderate wear...   \n",
       "...                                                 ...   \n",
       "6600                                                New   \n",
       "6601                                               Used   \n",
       "6611                                                New   \n",
       "6612                                                New   \n",
       "6618                                                NaN   \n",
       "\n",
       "                                  Condition Description  \n",
       "0      A brand-new, unused, unopened, undamaged item...  \n",
       "1                                                   NaN  \n",
       "2                                                   NaN  \n",
       "3                                                   NaN  \n",
       "4                                                   NaN  \n",
       "...                                                 ...  \n",
       "6600   A brand-new, unused, unopened, undamaged item...  \n",
       "6601   An item that has been used previously. The it...  \n",
       "6611   A brand-new, unused, unopened, undamaged item...  \n",
       "6612   A brand-new, unused, unopened, undamaged item...  \n",
       "6618                                                NaN  \n",
       "\n",
       "[4475 rows x 2 columns]"
      ]
     },
     "execution_count": 43,
     "metadata": {},
     "output_type": "execute_result"
    }
   ],
   "source": [
    "noteData[['Condition','Condition Description']] "
   ]
  }
 ],
 "metadata": {
  "kernelspec": {
   "display_name": "Python 3 (ipykernel)",
   "language": "python",
   "name": "python3"
  },
  "language_info": {
   "codemirror_mode": {
    "name": "ipython",
    "version": 3
   },
   "file_extension": ".py",
   "mimetype": "text/x-python",
   "name": "python",
   "nbconvert_exporter": "python",
   "pygments_lexer": "ipython3",
   "version": "3.11.5"
  }
 },
 "nbformat": 4,
 "nbformat_minor": 5
}
