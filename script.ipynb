{
 "cells": [
  {
   "cell_type": "code",
   "execution_count": 1,
   "id": "851610e7",
   "metadata": {},
   "outputs": [],
   "source": [
    "import pandas as pd"
   ]
  },
  {
   "cell_type": "code",
   "execution_count": 2,
   "id": "cc78bb8d",
   "metadata": {},
   "outputs": [],
   "source": [
    "noteData = pd.read_csv('EbayPcLaptopsAndNetbooksUnclean.csv')\n",
    "cleanNoteData = pd.read_csv('EbayPcLaptopsAndNetbooksClean.csv')"
   ]
  },
  {
   "cell_type": "code",
   "execution_count": 3,
   "id": "82488635",
   "metadata": {},
   "outputs": [],
   "source": [
    "\n",
    "noteData.drop_duplicates(inplace = True)"
   ]
  },
  {
   "cell_type": "code",
   "execution_count": 4,
   "id": "fdedad35-6551-4959-81a0-7f5fc20f2e99",
   "metadata": {},
   "outputs": [],
   "source": [
    "noteData.drop(columns = ['Rating', 'Ratings Count'], inplace = True)"
   ]
  },
  {
   "cell_type": "code",
   "execution_count": 5,
   "id": "642e3e76-3e3b-4f63-aa92-4e2a4c4906ae",
   "metadata": {},
   "outputs": [],
   "source": [
    "noteData['Brand'] = noteData['Brand'].str.lower()"
   ]
  },
  {
   "cell_type": "code",
   "execution_count": 6,
   "id": "430dd47f-7679-47ee-adb5-1d8faf44bd00",
   "metadata": {},
   "outputs": [],
   "source": [
    "noteData['Price'] = noteData['Price'].str.strip('$')"
   ]
  },
  {
   "cell_type": "code",
   "execution_count": 19,
   "id": "a88df3b6-b162-4b05-b066-9052edcd17ad",
   "metadata": {},
   "outputs": [],
   "source": [
    "noteData['Price'] = noteData['Price'].str.split(' to ').str[0].str.strip()"
   ]
  },
  {
   "cell_type": "code",
   "execution_count": 20,
   "id": "64ba9784-85c9-4107-b1da-ba9573f51713",
   "metadata": {},
   "outputs": [
    {
     "data": {
      "text/plain": [
       "0       303.68\n",
       "1       399.99\n",
       "2       175.00\n",
       "3        84.99\n",
       "4       101.22\n",
       "         ...  \n",
       "6600     93.26\n",
       "6601    424.83\n",
       "6611    385.23\n",
       "6612     90.92\n",
       "6618    567.74\n",
       "Name: Price, Length: 4475, dtype: object"
      ]
     },
     "execution_count": 20,
     "metadata": {},
     "output_type": "execute_result"
    }
   ],
   "source": [
    "noteData['Price']\n"
   ]
  },
  {
   "cell_type": "code",
   "execution_count": null,
   "id": "c7c8c183-ba19-43a8-9f16-c263bb5bdaf3",
   "metadata": {},
   "outputs": [],
   "source": []
  },
  {
   "cell_type": "code",
   "execution_count": null,
   "id": "ea7cf7f3-aebb-4b3c-a104-6a6fb6f24968",
   "metadata": {},
   "outputs": [],
   "source": []
  },
  {
   "cell_type": "code",
   "execution_count": null,
   "id": "e6092b68-cdc8-42d6-9679-6f7e30171b0b",
   "metadata": {},
   "outputs": [],
   "source": []
  }
 ],
 "metadata": {
  "kernelspec": {
   "display_name": "Python 3 (ipykernel)",
   "language": "python",
   "name": "python3"
  },
  "language_info": {
   "codemirror_mode": {
    "name": "ipython",
    "version": 3
   },
   "file_extension": ".py",
   "mimetype": "text/x-python",
   "name": "python",
   "nbconvert_exporter": "python",
   "pygments_lexer": "ipython3",
   "version": "3.11.5"
  }
 },
 "nbformat": 4,
 "nbformat_minor": 5
}
